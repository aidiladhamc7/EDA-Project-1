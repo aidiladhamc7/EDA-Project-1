# Import Packages
import numpy as np
import pandas as pd
import matplotlib.pyplot as plt
import seaborn as sns

# Import Dataset

df = pd.read_csv('20240121_shopee_sample_data_ (1).csv')
df.head()

df.shape
